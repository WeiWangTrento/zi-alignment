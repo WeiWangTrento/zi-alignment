{
 "cells": [
  {
   "cell_type": "markdown",
   "metadata": {},
   "source": [
    "## 输出字体图片"
   ]
  },
  {
   "cell_type": "code",
   "execution_count": 6,
   "metadata": {
    "scrolled": true
   },
   "outputs": [
    {
     "data": {
      "image/png": "[encoded data removed]",
      "text/plain": [
       "<Figure size 432x288 with 1 Axes>"
      ]
     },
     "metadata": {
      "needs_background": "light"
     },
     "output_type": "display_data"
    }
   ],
   "source": [
    "%matplotlib inline\n",
    "import matplotlib.pyplot as plt\n",
    "import os\n",
    "import numpy as np\n",
    "from PIL import Image, ImageFont, ImageDraw\n",
    "from fontTools.ttLib import TTFont\n",
    "\n",
    "from os import listdir\n",
    "from os.path import isfile, join\n",
    "\n",
    "sans_path = '../source-han-sans/Regular/'\n",
    "sans_files = ['SourceHanSansCN-Regular.otf',\n",
    "              'SourceHanSansTW-Regular.otf',\n",
    "              'SourceHanSansHK-Regular.otf',\n",
    "              'SourceHanSansJP-Regular.otf',\n",
    "              'SourceHanSansKR-Regular.otf']\n",
    "fontfiles = [join(sans_path, f) for f in sans_files]\n",
    "\n",
    "# print(fontfiles)\n",
    "\n",
    "def takeUnicode(elem):\n",
    "    return elem.encode('unicode_escape').decode()\n",
    "\n",
    "def has_glyph(glyph, fontpath):\n",
    "    font = TTFont(fontpath)\n",
    "    for table in font['cmap'].tables:\n",
    "        if ord(glyph) in table.cmap.keys():\n",
    "            return True\n",
    "    return False\n",
    "\n",
    "def getImage(text,size,fontpath):\n",
    "    font = ImageFont.truetype(fontpath,size)\n",
    "    #font = ImageFont.truetype(fontpath,size, layout_engine=ImageFont.LAYOUT_BASIC)\n",
    "    #print(dir(font))\n",
    "    #from pprint import pprint\n",
    "    #pprint(vars(font))\n",
    "    # ----------- text 2 image --------------------\n",
    "    width, height = font.getsize(text)\n",
    "    offsetx, offsety = font.getoffset(text)\n",
    "    xmin, ymin, xmax, ymax = font.getmask(text).getbbox()\n",
    "    #print('w, h, before crop... ', width, height)\n",
    "    #print('offset before crop ', offsetx, offsety)\n",
    "    #print('bbox corners ',xmin, ymin, xmax, ymax)\n",
    "    absxmin, absymin, absxmax, absymax = offsetx + xmin, offsety + ymin, offsetx + xmax, offsety + ymax\n",
    "\n",
    "    canvas = Image.new(\"RGB\",(width,height),(255,255,255))\n",
    "    draw = ImageDraw.Draw(canvas)\n",
    "    draw.text((0,0), text, font=font, fill=\"#000000\")\n",
    "    # draw.rectangle([absxmin, absymin, absxmax, absymax],outline='red',width=5)\n",
    "\n",
    "    # ------------ crop img --------------\n",
    "    canvas = canvas.crop((absxmin, absymin, absxmax, absymax))\n",
    "    width, height = canvas.size\n",
    "    #print('bbox w, h after crop ', width, height)\n",
    "\n",
    "    if width>size or height>size:\n",
    "        scale = max(width, height)/float(size)\n",
    "        new_w, new_h = int(width/scale), int(height/scale)\n",
    "        canvas = canvas.resize((new_w, new_h))\n",
    "        width, height = canvas.size\n",
    "        print('bbox w, h after resize ', width, height)\n",
    "\n",
    "    # ------------ pad img ---------------\n",
    "    pad_left = (size - width)//2\n",
    "    pad_top = (size - height)//2\n",
    "    canvas2 = Image.new(\"RGB\",(size,size),(255,255,255))\n",
    "    canvas2.paste(canvas,(pad_left, pad_top))\n",
    "    # box = getbox(im)\n",
    "    # print(box)\n",
    "    return canvas2\n",
    "\n",
    "def getbox(img):\n",
    "    box = None\n",
    "    arr = np.asarray(img)\n",
    "    if len(arr.shape) == 3:\n",
    "        arr = arr[:,:,0]\n",
    "    arr_arg = np.argwhere(arr<255)\n",
    "    if len(arr_arg) == 0:\n",
    "        # print('empty image, text not exist')\n",
    "        box = None\n",
    "    else:\n",
    "        max_yx = np.max(arr_arg,0)\n",
    "        min_yx = np.min(arr_arg,0)\n",
    "    #     print(min_yx, max_yx)\n",
    "        x0,y0,x1,y1 = min_yx[1], min_yx[0], max_yx[1], max_yx[0]\n",
    "        box = [x0,y0,x1,y1]\n",
    "    return box\n",
    "\n",
    "def addbox(img, box):\n",
    "    dr=ImageDraw.Draw(img)\n",
    "    dr.rectangle(box, outline='blue', width=5)\n",
    "    return img\n",
    "\n",
    "# 单独一个字保存到目录下\n",
    "# getFontImage_test('罙',size).save('./data/1225/source_{}.png'.format(takeUnicode('罙')[2:]))\n",
    "# 㚑彐大, 䔝艹紫\n",
    "text = '艹'\n",
    "size = 1000\n",
    "fontpath=fontfiles[0]\n",
    "# check if text exists in font\n",
    "check = has_glyph(text, fontpath)\n",
    "img = getImage(text, size, fontpath)\n",
    "img.save('./{}.png'.format(takeUnicode(text)[1:]))\n",
    "# 𪠇\n",
    "# 罙\n",
    "# 亻\n",
    "\n",
    "# 单独预览一个字\n",
    "plt.imshow(img)\n",
    "# plt.imshow(getFontImage_test(\"𪠇\",size,fontpaths=None,complement_fontpaths=None)) #\\U000F0003 \\ue050 fontpaths=fontfiles\n",
    "plt.axis('on') # 关掉坐标轴为 off\n",
    "plt.show()\n"
   ]
  },
  {
   "cell_type": "code",
   "execution_count": 15,
   "metadata": {},
   "outputs": [
    {
     "name": "stdout",
     "output_type": "stream",
     "text": [
      "w, h, before crop...  1000 1160\n",
      "offset before crop  0 370\n",
      "bbox corners  63 0 935 363\n",
      "bbox w, h after crop  872 363\n"
     ]
    },
    {
     "data": {
      "image/png": "[encoded data removed]",
      "text/plain": [
       "<Figure size 432x288 with 1 Axes>"
      ]
     },
     "metadata": {
      "needs_background": "light"
     },
     "output_type": "display_data"
    }
   ],
   "source": [
    "text = '艹'\n",
    "size = 1000\n",
    "fontpath=fontfiles[0]\n",
    "# check if text exists in font\n",
    "check = has_glyph(text, fontpath)\n",
    "#---------------------------------------------------------------\n",
    "font = ImageFont.truetype(fontpath,size)\n",
    "# ----------- text 2 image --------------------\n",
    "width, height = font.getsize(text)\n",
    "offsetx, offsety = font.getoffset(text)\n",
    "xmin, ymin, xmax, ymax = font.getmask(text).getbbox()\n",
    "print('w, h, before crop... ', width, height)\n",
    "print('offset before crop ', offsetx, offsety)\n",
    "print('bbox corners ',xmin, ymin, xmax, ymax)\n",
    "absxmin, absymin, absxmax, absymax = offsetx + xmin, offsety + ymin, offsetx + xmax, offsety + ymax\n",
    "\n",
    "canvas = Image.new(\"RGB\",(width,height),(255,255,255))\n",
    "draw = ImageDraw.Draw(canvas)\n",
    "draw.text((0,0), text, font=font, fill=\"#000000\")\n",
    "# draw.rectangle([absxmin, absymin, absxmax, absymax],outline='red',width=5)\n",
    "# ------------ crop img --------------\n",
    "canvas = canvas.crop((absxmin, absymin, absxmax, absymax))\n",
    "width, height = canvas.size\n",
    "print('bbox w, h after crop ', width, height)\n",
    "# ------------ pad img ---------------\n",
    "pad_left = (size - width)//2\n",
    "pad_top = (size - height)//2\n",
    "canvas2 = Image.new(\"RGB\",(size,size),(255,255,255))\n",
    "canvas2.paste(canvas,(pad_left, pad_top))\n",
    "img = canvas2\n",
    "#---------------------------------------------------------------\n",
    "nodelist = [288,790,\n",
    "288,655,\n",
    "63,655 ,\n",
    "63,577 ,\n",
    "288,577 ,\n",
    "288,428 ,\n",
    "366,428 ,\n",
    "366,577 ,\n",
    "627,577 ,\n",
    "627,428 ,\n",
    "706,428 ,\n",
    "706,577 ,\n",
    "935,577 ,\n",
    "935,655 ,\n",
    "706,655 ,\n",
    "706,790 ,\n",
    "627,790 ,\n",
    "627,655 ,\n",
    "366,655 ,\n",
    "366,790]\n",
    "\n",
    "mysize = int(len(nodelist)/2),2\n",
    "node_array = np.array(nodelist)\n",
    "node_array = node_array.reshape(mysize)\n",
    "x,y=node_array[:,0],node_array[:,1]\n",
    "\n",
    "boxGlyph_Origin = [63, 428]\n",
    "x = x - boxGlyph_Origin[0]\n",
    "y = y - boxGlyph_Origin[1]\n",
    "\n",
    "boxGlyph_Size = [872, 362]\n",
    "width = boxGlyph_Size[0]\n",
    "height = boxGlyph_Size[1]\n",
    "pad_left = (size - width)//2\n",
    "pad_top = (size - height)//2\n",
    "\n",
    "x = x + pad_left\n",
    "y = y + pad_top\n",
    "\n",
    "plt.scatter(x, y, c=\"g\", s=50, marker=r'o')\n",
    "\n",
    "plt.imshow(img)\n",
    "plt.axis('on') # 关掉坐标轴为 off\n",
    "plt.show()\n"
   ]
  },
  {
   "cell_type": "code",
   "execution_count": 21,
   "metadata": {},
   "outputs": [
    {
     "data": {
      "image/png": "[encoded data removed]",
      "text/plain": [
       "<PIL.Image.Image image mode=RGB size=200x200 at 0x10BF55370>"
      ]
     },
     "execution_count": 21,
     "metadata": {},
     "output_type": "execute_result"
    }
   ],
   "source": [
    "from PIL import Image, ImageDraw, ImageFont\n",
    "font = ImageFont.truetype(fontpath, 48)\n",
    "im = Image.new(\"RGB\", (200, 200), \"white\")\n",
    "d = ImageDraw.Draw(im)\n",
    "d.line(((0, 100), (200, 100)), \"gray\")\n",
    "d.line(((100, 0), (100, 200)), \"gray\")\n",
    "d.text((100, 100), \"Quick\", fill=\"black\", anchor=\"ms\", font=font)\n",
    "im"
   ]
  }
 ],
 "metadata": {
  "kernelspec": {
   "display_name": "Python 3 (ipykernel)",
   "language": "python",
   "name": "python3"
  },
  "language_info": {
   "codemirror_mode": {
    "name": "ipython",
    "version": 3
   },
   "file_extension": ".py",
   "mimetype": "text/x-python",
   "name": "python",
   "nbconvert_exporter": "python",
   "pygments_lexer": "ipython3",
   "version": "3.9.10"
  }
 },
 "nbformat": 4,
 "nbformat_minor": 2
}
